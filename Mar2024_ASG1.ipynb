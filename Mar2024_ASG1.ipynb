{
 "cells": [
  {
   "cell_type": "markdown",
   "metadata": {},
   "source": [
    "#### Mar 2024 ASG1 Submission"
   ]
  },
  {
   "cell_type": "code",
   "execution_count": 1,
   "metadata": {},
   "outputs": [],
   "source": [
    "### Student ID: 4070163B\n",
    "### Student Name: Lai Jing Kai\n",
    "\n",
    "# Grade: << By Grader, after marking >>"
   ]
  },
  {
   "cell_type": "markdown",
   "metadata": {},
   "source": [
    "We will be using a modified, anonymized dataset from Titanic Passenger Data. This dataset is a partial sub-set of the full original data, with missing/unusual data already cleaned or adjusted.\n",
    "\n",
    "Column details:\n",
    "\n",
    "*passenger_id*: (anonymized, unique id numbers assigned to each passenger) <br>\n",
    "*pclass*: represents passenger cabin class, (1 - first class, 2 - second class, 3 - third class) <br>\n",
    "*survived*: (0 - no, 1 - yes) <br>\n",
    "*gender*: (0 - female, 1 - male) <br>\n",
    "*age*: (numerical age of passenger) <br>\n",
    "*sibsp*: (number of siblings and/or spouses the passenger had onboard together with them) <br>\n",
    "*parch*: (number of parents and/or children the passenger had onboard together with them) <br>\n",
    "*fare*: (assume in $US based on 1912 pricing) <br>\n"
   ]
  },
  {
   "cell_type": "markdown",
   "metadata": {},
   "source": [
    "Q1.\n",
    "Read the provided data file into Jupyter Notebook using suitable file opening functions, and perform the following tasks: <br> <br>\n",
    "i) Print a list (python data structure) of all the column header names of the dataset (the column names are in the first line of the data file) <br>\n",
    "ii) Print the first 5 column header names, followed by the first 5 rows of the data\n",
    "\n",
    "For ii), your output should clearly display the column names and the required rows of data as per the example below.\n",
    "\n",
    "Hint: Use Python's open() and readline() to open the provided file, and to read the file's column headers and rows of the data, line by line.\n",
    "\n",
    "Reminder: use of non-basic python such as csv or pandas libraries will result in 50% penalties."
   ]
  },
  {
   "cell_type": "code",
   "execution_count": 4,
   "metadata": {
    "tags": []
   },
   "outputs": [
    {
     "name": "stdout",
     "output_type": "stream",
     "text": [
      "List of column header names:\n",
      "['passenger_id', 'survived', 'pclass', 'gender', 'age', 'sibsp', 'parch', 'fare']\n",
      "\n",
      "passenger_id   survived       pclass         gender         age            \n",
      "1              1              1              0              29             \n",
      "2              1              1              1              1              \n",
      "3              0              1              0              2              \n",
      "4              0              1              1              30             \n",
      "5              0              1              0              25             \n"
     ]
    }
   ],
   "source": [
    "file_name = \"titanic_mod.csv\"\n",
    "\n",
    "# Open the file and read the first line to get column headers\n",
    "with open(file_name, 'r',encoding = 'utf-8-sig') as file:\n",
    "    header = file.readline().strip().split(',')\n",
    "\n",
    "# Print the list of column header names\n",
    "print(\"List of column header names:\")\n",
    "print(header)\n",
    "print()\n",
    "\n",
    "# Task ii)\n",
    "# Open the file again to read the first 5 rows of data\n",
    "with open(file_name, 'r', encoding='utf-8') as file:\n",
    "    # Skip the first line (header)\n",
    "    file.readline()\n",
    "    \n",
    "    print(''.join(f'{header.ljust(15)}' for header in header[:5]))  # Print the first 5 column header names\n",
    "    \n",
    "    for _ in range(5):\n",
    "        row = file.readline().strip().split(',')\n",
    "        row_output = ''.join(f'{value.ljust(15)}' for value in row[:5])  # Format each row\n",
    "        print(row_output)  # Print each row of data"
   ]
  },
  {
   "cell_type": "markdown",
   "metadata": {},
   "source": [
    "Q2.\n",
    "Using relevant NumPy functions, load the data file into an array, excluding the first row of column headers.\n",
    "Display the contents and properties (such as size and shape) of the array. You may need to use NumPy’s set_printoptions() function to achieve the desired display.\n",
    "\n",
    "Hint: Use numpy's genfromtxt() function to load data from a text or csv file. Read documentation and consider carefully what parameters to use when calling genfromtxt()."
   ]
  },
  {
   "cell_type": "code",
   "execution_count": 5,
   "metadata": {
    "tags": []
   },
   "outputs": [
    {
     "name": "stdout",
     "output_type": "stream",
     "text": [
      "[['1' '1' '1' '0' '29' '0' '0' '211.3375']\n",
      " ['2' '1' '1' '1' '1' '1' '2' '151.55']\n",
      " ['3' '0' '1' '0' '2' '1' '2' '151.55']\n",
      " ['4' '0' '1' '1' '30' '1' '2' '151.55']\n",
      " ['5' '0' '1' '0' '25' '1' '2' '151.55']]\n",
      "The array type is: <class 'numpy.ndarray'>\n",
      "Number of rows: 1046\n",
      "Shape: (1046, 8)\n",
      "Size: 8368\n",
      "Dimensions: 2\n"
     ]
    }
   ],
   "source": [
    "import numpy as np\n",
    "\n",
    "# using with open on CSV file\n",
    "with open('titanic_mod.csv', 'r', encoding='utf-8-sig') as file:\n",
    "    # Use np.genfromtxt to load the CSV data into a NumPy array\n",
    "    array = np.genfromtxt(file, delimiter=',', dtype=str, skip_header=1)\n",
    "    \n",
    "# Set print options to display the entire array\n",
    "np.set_printoptions(threshold=np.inf)\n",
    "\n",
    "# Print the NumPy array\n",
    "print(array[0:5])\n",
    "\n",
    "print(\"The array type is:\", type(array))\n",
    "\n",
    "# Print the number of rows of the array\n",
    "print(\"Number of rows:\", len(array))\n",
    "\n",
    "# Display the shape of the array\n",
    "print(\"Shape:\", array.shape)\n",
    "\n",
    "# Display the size of the array\n",
    "print(\"Size:\", array.size)\n",
    "\n",
    "# Print the dimensions of the array\n",
    "print(\"Dimensions:\", array.ndim)\n"
   ]
  },
  {
   "cell_type": "markdown",
   "metadata": {},
   "source": [
    "Q3.\n",
    "Write a user-defined function that has two parameters: a column index number and a passenger age number. It will count the occurrences of the passenger age number in the column index of the Numpy array and return the total occurrences.\n",
    "\n",
    "Use the above user-defined function to answer the following question:\n",
    "\n",
    "In the dataset, print the 3 most frequent ages of the passengers. Include the proportion as a % out of entire passenger manifest, to 3 decimal places, for each age."
   ]
  },
  {
   "cell_type": "code",
   "execution_count": 6,
   "metadata": {
    "tags": []
   },
   "outputs": [
    {
     "name": "stdout",
     "output_type": "stream",
     "text": [
      "Passengers aged 24 accounted for 4.589% of the passenger population.\n",
      "Passengers aged 30 accounted for 4.111% of the passenger population.\n",
      "Passengers aged 22 accounted for 4.111% of the passenger population.\n"
     ]
    }
   ],
   "source": [
    "# Function to find the top 3 most common ages and their occurrences \n",
    "def find_top3_common_ages():\n",
    "    # Filter out age column first and convert to int\n",
    "    ages = array[:, 4]\n",
    "    ages = ages.astype(int)\n",
    "    \n",
    "    # Same as above: Filter out index column from array\n",
    "    indices = array[:, 0]\n",
    "    \n",
    "    # Find unique ages and their counts\n",
    "    unique_ages, counts = np.unique(ages, return_counts=True)\n",
    "    \n",
    "    # Sort the counts in descending order and get the indices of top 3 counts\n",
    "    sorted_indices = np.argsort(counts)[::-1]\n",
    "    \n",
    "    # Get the top 3 most common age indices\n",
    "    top3_indices = sorted_indices[:3]\n",
    "    \n",
    "    # Get the top 3 most common ages and their occurrences\n",
    "    top3_ages = unique_ages[top3_indices]\n",
    "    top3_occurrences = counts[top3_indices]\n",
    "    \n",
    "    # Calculate the percentage of passengers for each age\n",
    "    percentages = top3_occurrences / len(indices) * 100\n",
    "    \n",
    "    return top3_ages, top3_occurrences, percentages\n",
    "\n",
    "# Call the function and assign returned values in top3_ages and top3_occurrences variables\n",
    "top3_ages, top3_occurrences, percentages = find_top3_common_ages()\n",
    "\n",
    "# Print, using indexing approach on both variables using f\" string\n",
    "print(f\"Passengers aged {top3_ages[0]} accounted for {percentages[0]:.3f}% of the passenger population.\")\n",
    "print(f\"Passengers aged {top3_ages[1]} accounted for {percentages[1]:.3f}% of the passenger population.\")\n",
    "print(f\"Passengers aged {top3_ages[2]} accounted for {percentages[2]:.3f}% of the passenger population.\")        \n"
   ]
  },
  {
   "cell_type": "markdown",
   "metadata": {},
   "source": [
    "Q4.\n",
    "It is often important to explore the data to gain preliminary insights, before proceeding to predictive models or deciding on a problem statement to investigate.\n",
    "\n",
    "Please print out the following values amongst passengers (when appropriate, to 2 decimal places): <br>\n",
    "\n",
    "    i)   Highest value of number of siblings and/or spouses onboard\n",
    "    ii)  Mean value of parents and/or children onboard\n",
    "    iii) 50th-percentile value of fare paid\n",
    "    iv)  Cheapest non-zero fare paid\n",
    "\n"
   ]
  },
  {
   "cell_type": "code",
   "execution_count": 7,
   "metadata": {
    "tags": []
   },
   "outputs": [
    {
     "name": "stdout",
     "output_type": "stream",
     "text": [
      "Highest value of number of siblings and/or spouses onboard: 8\n"
     ]
    }
   ],
   "source": [
    "# i\n",
    "# Convert to int\n",
    "sibsp_column = array[:, 5].astype(int)\n",
    "\n",
    "# Find the highest value\n",
    "highest_sibsp_value = np.max(sibsp_column)\n",
    "\n",
    "print(\"Highest value of number of siblings and/or spouses onboard:\", highest_sibsp_value)\n"
   ]
  },
  {
   "cell_type": "code",
   "execution_count": 8,
   "metadata": {
    "tags": []
   },
   "outputs": [
    {
     "name": "stdout",
     "output_type": "stream",
     "text": [
      "Mean value of parents and/or children onboard: 0.42\n"
     ]
    }
   ],
   "source": [
    "#ii\n",
    "#Convert to int\n",
    "parch_column = array[0:,6].astype(int)\n",
    "\n",
    "# Find the mean value\n",
    "mean_parch_val = np.mean(parch_column)\n",
    "\n",
    "print(f\"Mean value of parents and/or children onboard: {mean_parch_val:.2f}\")\n"
   ]
  },
  {
   "cell_type": "code",
   "execution_count": 9,
   "metadata": {
    "tags": []
   },
   "outputs": [
    {
     "name": "stdout",
     "output_type": "stream",
     "text": [
      "50th-percentile value of fare paid: 15.75\n"
     ]
    }
   ],
   "source": [
    "#iii\n",
    "#Convert to int\n",
    "fare_median = array[0:,7].astype(float)\n",
    "\n",
    "#Find median value \n",
    "median_fare_val = np.median(fare_median)\n",
    "\n",
    "print(\"50th-percentile value of fare paid:\", median_fare_val)\n"
   ]
  },
  {
   "cell_type": "code",
   "execution_count": 10,
   "metadata": {
    "tags": []
   },
   "outputs": [
    {
     "name": "stdout",
     "output_type": "stream",
     "text": [
      "Cheapest non-zero fare paid: 3.17\n"
     ]
    }
   ],
   "source": [
    "# Filter out zero fares\n",
    "non_zero_fares = array[array[:, 7].astype(float) > 0]\n",
    "\n",
    "# Find the minimum fare \n",
    "cheapest_non_zero_fare = np.min(non_zero_fares[:, 7].astype(float))\n",
    "\n",
    "# Display the minimum fare with two decimal places\n",
    "print(f\"Cheapest non-zero fare paid: {cheapest_non_zero_fare:.2f}\")\n"
   ]
  },
  {
   "cell_type": "markdown",
   "metadata": {},
   "source": [
    "Q5.\n",
    "An example of a more advanced investigation, requiring comparison across aggregated values of different features/columns, could be, a researcher wanting to measure the difference in fares between males that survived and males that did not:\n",
    "\n",
    "Print out the difference between mean amount of fare paid by males that survived, and mean amount of fare paid by males that did not, appropriately formatted."
   ]
  },
  {
   "cell_type": "code",
   "execution_count": 11,
   "metadata": {},
   "outputs": [
    {
     "name": "stdout",
     "output_type": "stream",
     "text": [
      "14.37 is the difference betweeen the mean amount of fare paid by males that survived, and mean amount of fare paid by males that did not.\n"
     ]
    }
   ],
   "source": [
    "#Based on the two conditions, 2 arguments passed in like boolean mask to specify the cols (same as df) \n",
    "#and then apply to last col to get the mean astype float.\n",
    "\n",
    "mean_fare_svm = array[(array[:, 1] == '1') & (array[:, 3] == '1'), -1].astype(float).mean()\n",
    "\n",
    "mean_fare_deadm = array[(array[:, 1] == '0') & (array[:, 3] == '1'), -1].astype(float).mean()\n",
    "\n",
    "diff = mean_fare_svm - mean_fare_deadm\n",
    "\n",
    "print(f\"{diff:.2f} is the difference betweeen the mean amount of fare paid by males that survived, and mean amount of fare paid by males that did not.\")"
   ]
  },
  {
   "cell_type": "markdown",
   "metadata": {},
   "source": [
    "Q6.\n",
    "A research think-tank has tasked you with automating some of the common queries that their members make about the Titanic dataset.\n",
    "\n",
    "Write a simple Python program for the user to query the data based on his/her given inputs. When a user enters an option from 0 to 3, the program will process the option accordingly. After the option has been processed, the program will display the main menu again and the process is repeated until the user chooses to exit.\n",
    "The options are explained in Questions 7 to 9.\n",
    "\n",
    "\n",
    "Q7.\n",
    "Correlation between quantities may indicate some underlying relationship or likely pattern of behaviour.\n",
    "\n",
    "For the Compute Correlation option, display a numbered list of all the column header names and prompt the user to input the numbers representing the two quantities for the computation of correlation. The computed correlation should be rounded off to 3 decimal places.\n",
    "\n",
    "\n",
    "Q8.\n",
    "In the absence of actual lifeboat data, survivor age can be used to gauge if certain demographics were allowed on the lifeboats first.\n",
    "\n",
    "Prompt the user to enter the passenger class number, before displaying the corresponding rows of the 20 oldest survivors for that passenger class, in order from oldest to youngest.\n",
    "\n",
    "\n",
    "Q9.\n",
    "It was reported that while generally women were allowed onto lifeboats first, researchers are also keen to identify female survivors with larger numbers of family members onboard (not including themselves).\n",
    "\n",
    "Write a simple lambda function to calculate a new Numpy array column containing each passenger's non-self family members onboard, by adding the count of sibling and/or spouses, to the count of parents and/or children, for each passenger.\n",
    "\n",
    "Append this column to the existing Numpy 2-D array of values (you may need to use numpy.reshape() before appending) and display the top 20 rows of female survivors, ordered by highest to lowest by non-self family member count primarily, and in case of a tie, by highest to lowest fare secondarily.\n",
    "\n"
   ]
  },
  {
   "cell_type": "code",
   "execution_count": 12,
   "metadata": {
    "tags": []
   },
   "outputs": [
    {
     "name": "stdout",
     "output_type": "stream",
     "text": [
      "Main Menu\n",
      "1. Compute Correlation\n",
      "2. Ranked List of 20 Oldest Survivors by Passenger Class Number\n",
      "3. Ranked List of 20 Female Survivors by Highest Non-self Family Member Onboard Count and then by Highest Fare\n",
      "0. Exit\n",
      "\n"
     ]
    },
    {
     "name": "stdin",
     "output_type": "stream",
     "text": [
      "Enter your option (0 to exit):  0\n"
     ]
    },
    {
     "name": "stdout",
     "output_type": "stream",
     "text": [
      "\n",
      "Exiting program.\n"
     ]
    }
   ],
   "source": [
    "import numpy as np\n",
    "\n",
    "def user():\n",
    "    print(\"\"\"Main Menu\n",
    "1. Compute Correlation\n",
    "2. Ranked List of 20 Oldest Survivors by Passenger Class Number\n",
    "3. Ranked List of 20 Female Survivors by Highest Non-self Family Member Onboard Count and then by Highest Fare\n",
    "0. Exit\"\"\")\n",
    "    print()\n",
    "    while True:\n",
    "        option_first = input(\"Enter your option (0 to exit): \")\n",
    "        print()\n",
    "        \n",
    "        try:\n",
    "            option = int(option_first)\n",
    "            if option == 1:\n",
    "                print(\"\"\"List of header names for calculating correlation\n",
    "0 passenger_id\n",
    "1 survived\n",
    "2 pclass\n",
    "3 gender\n",
    "4 age\n",
    "5 sibsp\n",
    "6 parch\n",
    "7 fare\"\"\")\n",
    "                print()\n",
    "                      \n",
    "                option_cor1 = int(input(\"Enter the number for the first quantity:\"))\n",
    "                option_cor2 = int(input(\"Enter the number for the second quantity:\"))\n",
    "\n",
    "                # Setting up a dictionary to capture the above inputs as keys first. Keys will be used later for paired values.    \n",
    "                correlation_dict = {\n",
    "                    0: \"passenger_id\",\n",
    "                    1: \"survived\",\n",
    "                    2: \"pclass\",\n",
    "                    3: \"gender\",\n",
    "                    4: \"age\",\n",
    "                    5: \"sibsp\",\n",
    "                    6: \"parch\",\n",
    "                    7: \"fare\"\n",
    "                }\n",
    "                \n",
    "                # Assuming 'array' is your existing 2D array\n",
    "                \n",
    "                # Convert string values to numeric ones\n",
    "                array_numeric = np.array(array, dtype=float)\n",
    "                \n",
    "                corrcoef = np.corrcoef(array_numeric[:, option_cor1], array_numeric[:, option_cor2]) \n",
    "                print()\n",
    "                print(f\"The correlation between {correlation_dict[option_cor1]} and {correlation_dict[option_cor2]} is {corrcoef[0, 1]:.3f}\")\n",
    "\n",
    "            elif option == 2:\n",
    "                print(\"Enter the passenger class number (1 to 3):\")\n",
    "                print()\n",
    "                pclass = int(input())\n",
    "\n",
    "                # Filter array to get survivors of the specified class\n",
    "                survivors_class = array[(array[:, 2] == str(pclass)) & (array[:, 1] == '1')]\n",
    "                \n",
    "                # Convert age column to integer values\n",
    "                survivors_class[:, 4] = survivors_class[:, 4].astype(int)\n",
    "\n",
    "                # Round fare to two decimal places\n",
    "                survivors_class[:, 7] = np.round(survivors_class[:, 7].astype(float), 2)\n",
    "\n",
    "                # Sort survivors by age in descending order\n",
    "                oldest_survivors = survivors_class[np.argsort(-survivors_class[:, 4].astype(int))][:20]\n",
    "\n",
    "                # Determine maximum width of each column including the header\n",
    "                max_widths = [max(len(str(header[i])), max(len(str(value)) for value in column)) for i, column in enumerate(oldest_survivors.T)]\n",
    "                \n",
    "                print(\"List of the 20 Oldest Survivors for Passenger Cabin Class Number\", pclass)\n",
    "                print()\n",
    "\n",
    "                # Print header with aligned columns\n",
    "                header_str = ' '.join(header[i].ljust(max_widths[i] + 6) for i in range(len(header)))  \n",
    "                print(header_str)\n",
    "                \n",
    "                # Print rows with aligned columns\n",
    "                for row in oldest_survivors:\n",
    "                    row_str = ' '.join(str(row[i]).ljust(max_widths[i] + 6) for i in range(len(row)))  \n",
    "                    print(row_str)\n",
    "                                        \n",
    "            elif option == 3:\n",
    "                \n",
    "                # Define a lambda function to calculate non-self family members on-board\n",
    "                calculate_ns_family_members = lambda row: int(row[5]) + int(row[6])\n",
    "\n",
    "                # Apply the lambda function to each row of the array and create a new column\n",
    "                family_members_column = np.apply_along_axis(calculate_ns_family_members, axis=1, arr=array)\n",
    "\n",
    "                # Reshape the new column to match the shape of the existing array\n",
    "                family_members_column = np.reshape(family_members_column, (-1, 1))\n",
    "\n",
    "                # Append the new column to the existing array\n",
    "                array_with_ns_family_members = np.append(array, family_members_column, axis=1)\n",
    "\n",
    "                #Filter using boolean mask logic, retaining only female survivors\n",
    "                female_survivors_array = array_with_ns_family_members[(array_with_ns_family_members[:, 1] == '1') & (array_with_ns_family_members[:, 3] == '0')]\n",
    "\n",
    "                # Sort by family member size first [-1]. If tied, use fare [7]\n",
    "                sorted_indices = np.lexsort((-female_survivors_array[:, 7].astype(float), -female_survivors_array[:, -1].astype(int)))\n",
    "                female_survivors_sorted = female_survivors_array[sorted_indices][:20]\n",
    "\n",
    "                new_header = header + ['sibsp_parch']\n",
    "                \n",
    "                final_array = np.vstack((new_header, female_survivors_sorted))\n",
    "                \n",
    "                print(\"List of 20 Female Survivors by Highest Non-self Family Member Onboard Count, and then by Highest Fare, in descending order\")\n",
    "                print()\n",
    "\n",
    "                # Print the combined array with left-aligned columns and equal length\n",
    "                print(''.join(f'{header.ljust(15)}' for header in final_array[0]))  # Print the header row fisrt\n",
    "                for row in final_array[1:]:\n",
    "                    row_formatted = [value if i != 7 else f\"{float(value):.2f}\" for i, value in enumerate(row)]  # Format 'fare' column to two decimal places\n",
    "                    print(''.join(f\"{value.ljust(15)}\" for value in row_formatted))  # Print each row of data\n",
    "\n",
    "            elif option == 0:\n",
    "                print(\"Exiting program.\")\n",
    "                break\n",
    "                \n",
    "            else:\n",
    "                print(\"Invalid option. Please enter a number from 0 to 3.\")\n",
    "\n",
    "        except ValueError:\n",
    "            print(\"Invalid input. Please enter a valid number.\")\n",
    "        except Exception as e:\n",
    "            print(f\"An error occurred: {e}\")\n",
    "\n",
    "user()\n"
   ]
  },
  {
   "cell_type": "markdown",
   "metadata": {},
   "source": [
    "Q10. Reflection<BR>\n",
    "Share 3 things that you have learned from this assignment (i.e. Question 1 – 9) and/or topics covered from Week 1 to 7.\n",
    "\n",
    "Discuss 2 things that you found interesting from this assignment and/or topics covered from Week 1 to 7\n"
   ]
  },
  {
   "cell_type": "code",
   "execution_count": null,
   "metadata": {},
   "outputs": [],
   "source": []
  },
  {
   "cell_type": "markdown",
   "metadata": {},
   "source": [
    "## End of Notebook"
   ]
  }
 ],
 "metadata": {
  "kernelspec": {
   "display_name": "Python 3 (ipykernel)",
   "language": "python",
   "name": "python3"
  },
  "language_info": {
   "codemirror_mode": {
    "name": "ipython",
    "version": 3
   },
   "file_extension": ".py",
   "mimetype": "text/x-python",
   "name": "python",
   "nbconvert_exporter": "python",
   "pygments_lexer": "ipython3",
   "version": "3.11.7"
  }
 },
 "nbformat": 4,
 "nbformat_minor": 4
}
